{
 "cells": [
  {
   "cell_type": "markdown",
   "metadata": {},
   "source": [
    "# Value at Risk and Conditional Value at Risk\n",
    "\n",
    "In this chapter, we'll be looking at two important statistics of risk management when trading currencies: the Value at Risk (VaR) and the Conditional VaR (CVaR). As always, these notebooks are not concerned in teaching you the theoretical concepts in detail (there are enough webpages out there which will do a far better job). Instead, we brute force theory in your brain with raw mathematics and a hands-on practical example. Ahhh, the true data hacker way.\n",
    "\n",
    "The main goal of this session is to show you why RISK is best seen as a flashing red light in your mind, deserving all your attention while trading. But what is risk? Between us, young padawan, we'll agree that risk is simply the amount of money you're about to lose. We need to somehow be able to estimate the risk we're about to take when we'll enter the market. Otherwise you'll go for coffee and come back with a brick in your window and your kidney gone. Stay safe out there kids, markets can move fast and banks are mafias.\n",
    "\n",
    "Let's start off by looking at the amount a currency value can move in a given time: the return distribution. "
   ]
  },
  {
   "cell_type": "code",
   "execution_count": 2,
   "metadata": {},
   "outputs": [],
   "source": [
    "import numpy as np\n",
    "import pandas as pd\n",
    "import matplotlib.pyplot as plt\n",
    "import seaborn as sns\n",
    "from scipy.stats import norm, probplot\n",
    "\n",
    "sns.set(style=\"ticks\", context=\"talk\")\n",
    "plt.style.use(\"dark_background\")"
   ]
  },
  {
   "cell_type": "code",
   "execution_count": null,
   "metadata": {},
   "outputs": [],
   "source": []
  }
 ],
 "metadata": {
  "kernelspec": {
   "display_name": "Python 3",
   "language": "python",
   "name": "python3"
  },
  "language_info": {
   "codemirror_mode": {
    "name": "ipython",
    "version": 3
   },
   "file_extension": ".py",
   "mimetype": "text/x-python",
   "name": "python",
   "nbconvert_exporter": "python",
   "pygments_lexer": "ipython3",
   "version": "3.7.4"
  }
 },
 "nbformat": 4,
 "nbformat_minor": 2
}
